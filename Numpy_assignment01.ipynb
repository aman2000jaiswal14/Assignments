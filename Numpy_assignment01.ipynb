{
 "cells": [
  {
   "cell_type": "markdown",
   "metadata": {},
   "source": [
    "# Aman Jaiswal\n",
    "# aman2000jaiswal14@gmail.com"
   ]
  },
  {
   "cell_type": "markdown",
   "metadata": {},
   "source": [
    "# Problem Statement 1: \n",
    "### Write a function so that the columns of the output matrix are powers of the input vector. \n"
   ]
  },
  {
   "cell_type": "code",
   "execution_count": 1,
   "metadata": {},
   "outputs": [],
   "source": [
    "import numpy as np"
   ]
  },
  {
   "cell_type": "code",
   "execution_count": 36,
   "metadata": {},
   "outputs": [],
   "source": [
    "def vander(x,N=-1,increasing=False):          # x must be 1 D array\n",
    "    if(N==-1):                                # for default value of N = length of array\n",
    "        N=len(x)\n",
    "        \n",
    "    x = np.array(x)\n",
    "    z = np.zeros((len(x),N),dtype=type(x[0]))\n",
    "    \n",
    "    if(increasing):\n",
    "        for i in range(N):\n",
    "            z[:,i] = x**i\n",
    "    else:\n",
    "        for i in range(N):\n",
    "            z[:,N-i-1] = x**i\n",
    "    return z"
   ]
  },
  {
   "cell_type": "markdown",
   "metadata": {},
   "source": [
    "#### Example"
   ]
  },
  {
   "cell_type": "code",
   "execution_count": 37,
   "metadata": {},
   "outputs": [
    {
     "data": {
      "text/plain": [
       "array([[    1,     1,     1,     1,     1,     1,     1,     1],\n",
       "       [  128,    64,    32,    16,     8,     4,     2,     1],\n",
       "       [ 2187,   729,   243,    81,    27,     9,     3,     1],\n",
       "       [16384,  4096,  1024,   256,    64,    16,     4,     1]])"
      ]
     },
     "execution_count": 37,
     "metadata": {},
     "output_type": "execute_result"
    }
   ],
   "source": [
    "vander([1,2,3,4],N=8)"
   ]
  },
  {
   "cell_type": "code",
   "execution_count": 38,
   "metadata": {},
   "outputs": [
    {
     "data": {
      "text/plain": [
       "array([[ 1,  5, 25],\n",
       "       [ 1,  3,  9],\n",
       "       [ 1,  1,  1]])"
      ]
     },
     "execution_count": 38,
     "metadata": {},
     "output_type": "execute_result"
    }
   ],
   "source": [
    "vander([5,3,1],increasing=True)"
   ]
  },
  {
   "cell_type": "markdown",
   "metadata": {},
   "source": [
    "# Problem Statement 2: \n",
    "### Question: Write a function to find moving average in an array over a window:  Test it over\n",
    "### [3, 5, 7, 2, 8, 10, 11, 65, 72, 81, 99, 100, 150] and window of 3. \n"
   ]
  },
  {
   "cell_type": "code",
   "execution_count": 32,
   "metadata": {},
   "outputs": [],
   "source": [
    "def moving_avg(x,k=4):\n",
    "    x = np.array(x)\n",
    "    return [np.mean(x[i:i+k]) for i in range(len(x)-k+1)]"
   ]
  },
  {
   "cell_type": "code",
   "execution_count": 35,
   "metadata": {},
   "outputs": [
    {
     "data": {
      "text/plain": [
       "[5.0,\n",
       " 4.666666666666667,\n",
       " 5.666666666666667,\n",
       " 6.666666666666667,\n",
       " 9.666666666666666,\n",
       " 28.666666666666668,\n",
       " 49.333333333333336,\n",
       " 72.66666666666667,\n",
       " 84.0,\n",
       " 93.33333333333333,\n",
       " 116.33333333333333]"
      ]
     },
     "execution_count": 35,
     "metadata": {},
     "output_type": "execute_result"
    }
   ],
   "source": [
    "moving_avg( [3, 5, 7, 2, 8, 10, 11, 65, 72, 81, 99, 100, 150],k=3)"
   ]
  }
 ],
 "metadata": {
  "kernelspec": {
   "display_name": "Python 3",
   "language": "python",
   "name": "python3"
  },
  "language_info": {
   "codemirror_mode": {
    "name": "ipython",
    "version": 3
   },
   "file_extension": ".py",
   "mimetype": "text/x-python",
   "name": "python",
   "nbconvert_exporter": "python",
   "pygments_lexer": "ipython3",
   "version": "3.7.6"
  }
 },
 "nbformat": 4,
 "nbformat_minor": 4
}
